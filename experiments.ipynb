{
 "cells": [
  {
   "cell_type": "code",
   "execution_count": null,
   "metadata": {},
   "outputs": [],
   "source": [
    "# Imports and configuration\n",
    "from tqdm import tqdm\n",
    "import matplotlib.pyplot as plt\n",
    "import seaborn as sns\n",
    "\n",
    "%load_ext line_profiler\n",
    "%config InlineBackend.figure_format = 'retina'\n",
    "sns.set_style(\"ticks\")\n",
    "plt.rc(\"axes.spines\", top=False, right=False)"
   ]
  },
  {
   "cell_type": "code",
   "execution_count": null,
   "metadata": {},
   "outputs": [],
   "source": [
    "# Model Parameters\n",
    "import model\n",
    "import settingsloader\n",
    "\n",
    "num_agents = 100\n",
    "ticks = 1000\n",
    "continuous_order_matching = True\n",
    "\n",
    "def run_sim(progress_bar = True):\n",
    "    \"\"\"Run and return a havven simulation\"\"\"\n",
    "    \n",
    "    settings = settingsloader.load_settings()\n",
    "    \n",
    "    model_settings = settings['Model']\n",
    "    model_settings['agent_fractions'] = settings['AgentFractions']\n",
    "\n",
    "    m = model.HavvenModel(\n",
    "        model_settings,\n",
    "        settings['Fees'],\n",
    "        settings['Agents'],\n",
    "        settings['Havven']\n",
    "    )\n",
    "    \n",
    "    if progress_bar:\n",
    "        for _ in tqdm(range(ticks)):\n",
    "            m.step()\n",
    "    else:\n",
    "        for _ in range(ticks):\n",
    "            m.step()\n",
    "    \n",
    "    return m"
   ]
  },
  {
   "cell_type": "code",
   "execution_count": null,
   "metadata": {},
   "outputs": [],
   "source": [
    "# Run the model here\n",
    "havven = run_sim()"
   ]
  },
  {
   "cell_type": "code",
   "execution_count": null,
   "metadata": {
    "scrolled": false
   },
   "outputs": [],
   "source": [
    "# Collect and plot the data\n",
    "\n",
    "df = havven.datacollector.get_model_vars_dataframe()\n",
    "df[[\"Nomin Price\"]].plot()\n",
    "df[[\"Havven Price\"]].plot()\n",
    "df[[\"Havven/Nomin Price\"]].plot()\n",
    "df[[\"Havven Demand\", \"Havven Supply\"]].plot()\n",
    "df[[\"Nomin Demand\", \"Nomin Supply\"]].plot()\n",
    "df[[\"Fiat Demand\", \"Fiat Supply\"]].plot()\n",
    "df[[\"Avg Profit %\"]].plot()\n",
    "df[[\"Escrowed Havvens\", \"Nomins\"]].plot()\n",
    "df[[\"Fee Pool\", \"Fees Distributed\"]].plot()\n",
    "\n",
    "plt.show()"
   ]
  },
  {
   "cell_type": "code",
   "execution_count": null,
   "metadata": {
    "scrolled": true
   },
   "outputs": [],
   "source": [
    "# Profiling\n",
    "# import agents, orderbook\n",
    "\n",
    "# Overall sim\n",
    "# Result: 99.8% time spent in m.step()\n",
    "# %lprun -f run_sim run_sim(False)\n",
    "\n",
    "# Individual sim steps\n",
    "# Result: 83% in agent.step(); 17% in datacollector.collect()\n",
    "# %lprun -f model.Havven.step run_sim(False)\n",
    "\n",
    "# Per-agent sim steps\n",
    "# Result: ~40% each in agents.MarketPlayer.sell_fiat_for_havvens and sell_nomins_for_havvens,\n",
    "#         8% in OrderBook.Order.cancel\n",
    "# %lprun -f agents.Banker.step run_sim(False)\n",
    "\n",
    "# Market player trades\n",
    "# Result: 92% in OrderBook.buy, 6% in OrderBook.lowest_ask_price\n",
    "# %lprun -f agents.MarketPlayer.sell_fiat_for_havvens run_sim(False)\n",
    "# %lprun -f agents.MarketPlayer.sell_nomins_for_havven:s run_sim(False)\n",
    "\n",
    "# Order cancellations\n",
    "# Result: 74% in OrderBook.buy_orders.remove, 8% in Orderbook.step,\n",
    "#         6% in agents.MarketPlayer.notify_cancelled, 5% in agents.MarketPlayer.orders.remove\n",
    "# %lprun -f orderbook.Bid.cancel run_sim(False)\n",
    "# %lprun -f orderbook.Ask.cancel run_sim(False)\n",
    "\n",
    "# Orderbook buy and ask prices\n",
    "# Result: 93% orderbook.OrderBook.bid, 6% orderbook.OrderBook.lowest_ask_price\n",
    "# %lprun -f orderbook.OrderBook.buy run_sim(False)\n",
    "\n",
    "# Orderbook bid\n",
    "# Result: 79% orderbook.OrderBook.match, 20% construction of Bids\n",
    "# %lprun -f orderbook.OrderBook.bid run_sim(False)\n",
    "\n",
    "# Matching functions\n",
    "# Results: 24% match loop condition, 10% grabbing prev asks and bids from order lists\n",
    "#          32% matcher functions, 16% spread calculation, 15% recalculating prices.\n",
    "# %lprun -f orderbook.OrderBook.match run_sim(False)\n",
    "\n",
    "# Bid construction\n",
    "# Result: 22% superconstructor, 5% issuer order set addition,\n",
    "#         59% order book buy order addition, 9% book.step\n",
    "# %lprun -f orderbook.Bid.__init__ run_sim(False)"
   ]
  }
 ],
 "metadata": {
  "kernelspec": {
   "display_name": "Python 3",
   "language": "python",
   "name": "python3"
  },
  "language_info": {
   "codemirror_mode": {
    "name": "ipython",
    "version": 3
   },
   "file_extension": ".py",
   "mimetype": "text/x-python",
   "name": "python",
   "nbconvert_exporter": "python",
   "pygments_lexer": "ipython3",
   "version": "3.6.2"
  }
 },
 "nbformat": 4,
 "nbformat_minor": 2
}
