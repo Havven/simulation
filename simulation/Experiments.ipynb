{
 "cells": [
  {
   "cell_type": "code",
   "execution_count": null,
   "metadata": {},
   "outputs": [],
   "source": [
    "# Imports and configuration\n",
    "\n",
    "import model\n",
    "from tqdm import tqdm\n",
    "import matplotlib.pyplot as plt\n",
    "import seaborn as sns\n",
    "%config InlineBackend.figure_format = 'retina'\n",
    "sns.set_style(\"ticks\")\n",
    "plt.rc(\"axes.spines\", top=False, right=False)"
   ]
  },
  {
   "cell_type": "code",
   "execution_count": null,
   "metadata": {},
   "outputs": [],
   "source": [
    "# Model Parameters\n",
    "\n",
    "num_agents = 200\n",
    "ticks = 2000\n",
    "match_on_order = True"
   ]
  },
  {
   "cell_type": "code",
   "execution_count": null,
   "metadata": {},
   "outputs": [],
   "source": [
    "# Run the model here\n",
    "\n",
    "havven = model.Havven(num_agents, match_on_order=match_on_order)\n",
    "for _ in tqdm(range(ticks)):\n",
    "    havven.step()"
   ]
  },
  {
   "cell_type": "code",
   "execution_count": null,
   "metadata": {},
   "outputs": [],
   "source": [
    "# Collect and plot the data\n",
    "\n",
    "df = havven.datacollector.get_model_vars_dataframe()\n",
    "df[[\"Curit Demand\", \"Curit Supply\"]].plot()\n",
    "df[[\"Nomin Demand\", \"Nomin Supply\"]].plot()\n",
    "df[[\"Fiat Demand\", \"Fiat Supply\"]].plot()\n",
    "df[[\"Profit %\"]].plot()\n",
    "df[[\"Escrowed Curits\", \"Nomins\"]].plot()\n",
    "df[[\"Fee Pool\", \"Fees Distributed\"]].plot()\n",
    "\n",
    "plt.show()"
   ]
  }
 ],
 "metadata": {
  "kernelspec": {
   "display_name": "Python 3",
   "language": "python",
   "name": "python3"
  },
  "language_info": {
   "codemirror_mode": {
    "name": "ipython",
    "version": 3
   },
   "file_extension": ".py",
   "mimetype": "text/x-python",
   "name": "python",
   "nbconvert_exporter": "python",
   "pygments_lexer": "ipython3",
   "version": "3.6.2"
  }
 },
 "nbformat": 4,
 "nbformat_minor": 2
}
